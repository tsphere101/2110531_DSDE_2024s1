{
  "cells": [
    {
      "cell_type": "markdown",
      "metadata": {
        "id": "2pyphud-RxZu"
      },
      "source": [
        "# Spark Preparation\n",
        "We check if we are in Google Colab.  If this is the case, install all necessary packages.\n",
        "\n",
        "To run spark in Colab, we need to first install all the dependencies in Colab environment i.e. Apache Spark 3.3.2 with hadoop 3.3, Java 8 and Findspark to locate the spark in the system. The tools installation can be carried out inside the Jupyter Notebook of the Colab.\n",
        "Learn more from [A Must-Read Guide on How to Work with PySpark on Google Colab for Data Scientists!](https://www.analyticsvidhya.com/blog/2020/11/a-must-read-guide-on-how-to-work-with-pyspark-on-google-colab-for-data-scientists/)"
      ]
    },
    {
      "cell_type": "code",
      "execution_count": 2,
      "metadata": {
        "id": "r_dh2xgVRxZw"
      },
      "outputs": [],
      "source": [
        "try:\n",
        "  import google.colab\n",
        "  IN_COLAB = True\n",
        "except:\n",
        "  IN_COLAB = False"
      ]
    },
    {
      "cell_type": "code",
      "execution_count": 3,
      "metadata": {
        "id": "7ii1RxT8RxZx"
      },
      "outputs": [],
      "source": [
        "if IN_COLAB:\n",
        "    !apt-get install openjdk-8-jdk-headless -qq > /dev/null\n",
        "    !wget https://archive.apache.org/dist/spark/spark-3.2.0/spark-3.2.0-bin-hadoop3.2.tgz\n",
        "    !tar xf spark-3.2.0-bin-hadoop3.2.tgz\n",
        "    !mv spark-3.2.0-bin-hadoop3.2 spark\n",
        "    !pip install -q findspark\n",
        "    import os\n",
        "    os.environ[\"JAVA_HOME\"] = \"/usr/lib/jvm/java-8-openjdk-amd64\"\n",
        "    os.environ[\"SPARK_HOME\"] = \"/content/spark\""
      ]
    },
    {
      "cell_type": "markdown",
      "metadata": {
        "id": "3Jf6LXAcRxZx"
      },
      "source": [
        "# Start a Local Cluster"
      ]
    },
    {
      "cell_type": "code",
      "execution_count": 4,
      "metadata": {
        "colab": {
          "base_uri": "https://localhost:8080/",
          "height": 216
        },
        "id": "2i8EVi4hRxZx",
        "outputId": "bb70caf6-140a-43e1-c49a-fb89ded90f7f"
      },
      "outputs": [
        {
          "output_type": "execute_result",
          "data": {
            "text/plain": [
              "<pyspark.sql.session.SparkSession at 0x7b1b93d2b9a0>"
            ],
            "text/html": [
              "\n",
              "            <div>\n",
              "                <p><b>SparkSession - in-memory</b></p>\n",
              "                \n",
              "        <div>\n",
              "            <p><b>SparkContext</b></p>\n",
              "\n",
              "            <p><a href=\"http://fd859440b234:4040\">Spark UI</a></p>\n",
              "\n",
              "            <dl>\n",
              "              <dt>Version</dt>\n",
              "                <dd><code>v3.2.0</code></dd>\n",
              "              <dt>Master</dt>\n",
              "                <dd><code>local[*]</code></dd>\n",
              "              <dt>AppName</dt>\n",
              "                <dd><code>ColabSparkApp</code></dd>\n",
              "            </dl>\n",
              "        </div>\n",
              "        \n",
              "            </div>\n",
              "        "
            ]
          },
          "metadata": {},
          "execution_count": 4
        }
      ],
      "source": [
        "import findspark\n",
        "findspark.init()\n",
        "from pyspark.sql import SparkSession\n",
        "\n",
        "spark = SparkSession.builder \\\n",
        "    .appName(\"ColabSparkApp\") \\\n",
        "    .getOrCreate()\n",
        "\n",
        "# Verify Spark session\n",
        "spark"
      ]
    },
    {
      "cell_type": "markdown",
      "metadata": {
        "id": "n2b_ah95RxZx"
      },
      "source": [
        "# Spark Assignment\n",
        "\n",
        "Based on the movie review dataset in 'netflix-rotten-tomatoes-metacritic-imdb.csv', answer the below questions.\n",
        "\n",
        "**Note:** do not clean or remove missing data"
      ]
    },
    {
      "cell_type": "code",
      "execution_count": 5,
      "metadata": {
        "colab": {
          "base_uri": "https://localhost:8080/"
        },
        "id": "z6f77oCtRxZx",
        "outputId": "044a6e62-3c50-42cb-b834-22eab0b360d8"
      },
      "outputs": [
        {
          "output_type": "stream",
          "name": "stdout",
          "text": [
            "+--------------------+--------------------+--------------------+--------------------+---------------+----------------+--------------------+------------+--------------------+--------------------+--------------------+-----------+----------+---------------------+----------------+---------------+--------------------+------------+------------+--------------------+--------------------+--------------------+--------------------+--------------------+----------+--------------------+--------------------+--------------------+------------+\n",
            "|               Title|               Genre|                Tags|           Languages|Series or Movie|Hidden Gem Score|Country Availability|     Runtime|            Director|              Writer|              Actors|View Rating|IMDb Score|Rotten Tomatoes Score|Metacritic Score|Awards Received|Awards Nominated For|   Boxoffice|Release Date|Netflix Release Date|    Production House|        Netflix Link|           IMDb Link|             Summary|IMDb Votes|               Image|              Poster|        TMDb Trailer|Trailer Site|\n",
            "+--------------------+--------------------+--------------------+--------------------+---------------+----------------+--------------------+------------+--------------------+--------------------+--------------------+-----------+----------+---------------------+----------------+---------------+--------------------+------------+------------+--------------------+--------------------+--------------------+--------------------+--------------------+----------+--------------------+--------------------+--------------------+------------+\n",
            "|    Lets Fight Ghost|Crime, Drama, Fan...|Comedy Programmes...|    Swedish, Spanish|         Series|             4.3|            Thailand|< 30 minutes|     Tomas Alfredson|John Ajvide Lindq...|Kåre Hedebrant, P...|          R|       7.9|                 98.0|            82.0|           74.0|                57.0|  $2,122,065| 12 Dec 2008|          2021-03-04|Canal+, Sandrew M...|https://www.netfl...|https://www.imdb....|A med student wit...|  205926.0|https://occ-0-470...|https://m.media-a...|                null|        null|\n",
            "| HOW TO BUILD A GIRL|              Comedy|Dramas,Comedies,F...|             English|          Movie|             7.0|              Canada|    1-2 hour|       Coky Giedroyc|       Caitlin Moran|Paddy Considine, ...|          R|       5.8|                 79.0|            69.0|            1.0|                null|     $70,632| 08 May 2020|          2021-03-04|Film 4, Monumenta...|https://www.netfl...|https://www.imdb....|When nerdy Johann...|    2838.0|https://occ-0-108...|https://m.media-a...|https://www.youtu...|     YouTube|\n",
            "|          Centigrade|     Drama, Thriller|           Thrillers|             English|          Movie|             6.4|              Canada|    1-2 hour|       Brendan Walsh|Brendan Walsh, Da...|Genesis Rodriguez...|    Unrated|       4.3|                 null|            46.0|           null|                null|     $16,263| 28 Aug 2020|          2021-03-04|                null|https://www.netfl...|https://www.imdb....|Trapped in a froz...|    1720.0|https://occ-0-108...|https://m.media-a...|https://www.youtu...|     YouTube|\n",
            "|               ANNE+|               Drama|TV Dramas,Romanti...|             Turkish|         Series|             7.7| Belgium,Netherlands|< 30 minutes|                null|                null|Vahide Perçin, Go...|       null|       6.5|                 null|            null|            1.0|                null|        null| 01 Oct 2016|          2021-03-04|                null|https://www.netfl...|https://www.imdb....|Upon moving into ...|    1147.0|https://occ-0-148...|https://m.media-a...|                null|        null|\n",
            "|               Moxie|Animation, Short,...|Social Issue Dram...|             English|          Movie|             8.1|Lithuania,Poland,...|    1-2 hour|       Stephen Irwin|                null|        Ragga Gudrun|       null|       6.3|                 null|            null|           null|                 4.0|        null| 22 Sep 2011|          2021-03-04|                null|https://www.netfl...|https://www.imdb....|Inspired by her m...|      63.0|https://occ-0-403...|https://m.media-a...|                null|        null|\n",
            "|    The Con-Heartist|     Comedy, Romance|Romantic Comedies...|                Thai|          Movie|             8.6|            Thailand|     > 2 hrs|       Mez Tharatorn|Pattaranad Bhiboo...|Thiti Mahayotaruk...|       null|       7.4|                 null|            null|           null|                null|        null| 03 Dec 2020|          2021-03-03|                null|https://www.netfl...|https://www.imdb....|After her ex-boyf...|     131.0|https://occ-0-218...|https://m.media-a...|https://www.youtu...|     YouTube|\n",
            "|        Gleboka woda|               Drama|TV Dramas,Polish ...|              Polish|         Series|             8.7|              Poland|< 30 minutes|                null|                null|Marcin Dorocinski...|       null|       7.5|                 null|            null|            2.0|                 4.0|        null| 14 Jun 2011|          2021-03-03|                null|https://www.netfl...|https://www.imdb....|A group of social...|      47.0|https://occ-0-250...|https://m.media-a...|                null|        null|\n",
            "|            Instynkt|               Crime|TV Dramas,Crime T...|              Polish|         Series|             6.9|              Poland|< 30 minutes|                null|                null|Pawel Królikowski...|       null|       3.9|                 null|            null|           null|                null|        null| 03 Mar 2011|          2021-03-03|                null|https://www.netfl...|https://www.imdb....|An enigmatic comm...|     107.0|https://occ-0-250...|https://m.media-a...|                null|        null|\n",
            "|       Only a Mother|               Drama|Social Issue Dram...|             Swedish|          Movie|             8.3|Lithuania,Poland,...|    1-2 hour|         Alf Sjöberg|   Ivar Lo-Johansson|Ulf Palme, Ragnar...|       null|       6.7|                 null|            null|            2.0|                 1.0|        null| 31 Oct 1949|          2021-03-03|                null|https://www.netfl...|https://www.imdb....|An unhappily marr...|      88.0|https://occ-0-285...|https://m.media-a...|                null|        null|\n",
            "|          Snowroller|              Comedy|Sports Movies,Spo...|Swedish, English,...|          Movie|             5.3|Lithuania,Poland,...|    1-2 hour|         Lasse Åberg|Lasse Åberg, Bo J...|Jon Skolmen, Ceci...|       null|       6.6|                 null|            null|           null|                null|        null| 04 Oct 1985|          2021-03-03|                null|https://www.netfl...|https://www.imdb....|Two friends take ...|    5926.0|https://occ-0-285...|https://m.media-a...|                null|        null|\n",
            "|        Sunes Summer|Comedy, Family, F...|Children & Family...|             Swedish|          Movie|             7.5|Lithuania,Poland,...|    1-2 hour|        Jon Holmberg|Jon Holmberg, Dan...|Elis Gerdt, Tea S...|       null|       5.5|                 null|            null|           null|                 7.0|        null| 30 Nov 2018|          2021-03-03|                null|https://www.netfl...|https://www.imdb....|A family camping ...|     560.0|https://occ-0-285...|https://m.media-a...|                null|        null|\n",
            "|       The Invisible|Crime, Drama, Fan...|Thriller Movies,M...|             English|          Movie|             2.0|Lithuania,Poland,...|    1-2 hour|      David S. Goyer|Christine Roum, M...|Marcia Gay Harden...|      PG-13|       6.2|                 20.0|            36.0|           null|                 1.0| $20,578,909| 27 Apr 2007|          2021-03-03|Touchstone Pictur...|https://www.netfl...|https://www.imdb....|Critically injure...|   34738.0|https://occ-0-285...|https://m.media-a...|https://www.youtu...|     YouTube|\n",
            "|The Simple Minded...|               Drama|Social Issue Dram...|    Scanian, Swedish|          Movie|             7.8|Lithuania,Poland,...|    1-2 hour|      Hans Alfredson|      Hans Alfredson|Stellan Skarsgård...|       null|       7.6|                 92.0|            null|            7.0|                 2.0|        null| 01 Sep 1985|          2021-03-03|Svensk Filmindust...|https://www.netfl...|https://www.imdb....|A good-natured fa...|    2870.0|https://occ-0-285...|https://m.media-a...|                null|        null|\n",
            "|The Stig-Helmer S...|       Comedy, Drama|Romantic Dramas,R...|    Swedish, English|          Movie|             6.4|Lithuania,Poland,...|    1-2 hour|         Lasse Åberg|         Lasse Åberg|Jon Skolmen, Ida ...|       null|       4.5|                 null|            null|           null|                 1.0|        null| 25 Dec 2011|          2021-03-03|                null|https://www.netfl...|https://www.imdb....|Popular character...|    1666.0|https://occ-0-285...|https://m.media-a...|                null|        null|\n",
            "|     To Kill a Child|        Short, Drama|Dramas,Swedish Mo...|             Spanish|          Movie|             8.8|Lithuania,Poland,...|< 30 minutes|José Esteban Alen...|José Esteban Alen...|Manolo Solo, Roge...|       null|       7.7|                 null|            null|            2.0|                 5.0|        null| 07 Feb 2011|          2021-03-03|                null|https://www.netfl...|https://www.imdb....|A car accident in...|      78.0|https://occ-0-285...|https://m.media-a...|                null|        null|\n",
            "|               Joker|Crime, Drama, Thr...|Dark Comedies,Cri...|             English|          Movie|             3.5|Lithuania,Poland,...|    1-2 hour|       Todd Phillips|Scott Silver, Jer...|Joaquin Phoenix, ...|          R|       8.4|                 68.0|            59.0|          112.0|               228.0|$335,451,311| 04 Oct 2019|          2021-03-03|Bron Studios, Cre...|https://www.netfl...|https://www.imdb....|A practical joker...|  951938.0|https://occ-0-285...|https://m.media-a...|https://www.youtu...|     YouTube|\n",
            "|                   I|Action, Adventure...|Dramas,Swedish Mo...|   English, Sanskrit|          Movie|             2.8|Lithuania,Poland,...|    1-2 hour|        George Lucas|        George Lucas|Liam Neeson, Ewan...|         PG|       6.5|                 52.0|            51.0|           26.0|                69.0|$474,544,677| 19 May 1999|          2021-03-03|      Lucasfilm Ltd.|https://www.netfl...|https://www.imdb....|A young man seeki...|  733336.0|https://occ-0-285...|https://m.media-a...|https://www.youtu...|     YouTube|\n",
            "|    Harrys Daughters|Adventure, Drama,...|Dramas,Swedish Mo...|             English|          Movie|             4.4|Lithuania,Poland,...|    1-2 hour|         David Yates|Steve Kloves, J.K...|Ralph Fiennes, Al...|      PG-13|       8.1|                 96.0|            85.0|           46.0|                94.0|$381,409,310| 15 Jul 2011|          2021-03-03|Heyday Films, Mov...|https://www.netfl...|https://www.imdb....|As two sisters bo...|  766594.0|https://occ-0-285...|https://m.media-a...|https://www.youtu...|     YouTube|\n",
            "|       Gyllene Tider|               Music|Music & Musicals,...|             Swedish|          Movie|             8.8|Lithuania,Poland,...|  30-60 mins|     Lasse Hallström|                null|Micke Andersson, ...|       null|       7.7|                 null|            null|           null|                null|        null|        null|          2021-03-03|                null|https://www.netfl...|https://www.imdb....|This music docume...|      19.0|https://occ-0-285...|https://m.media-a...|                null|        null|\n",
            "|      False As Water|     Drama, Thriller|Psychological Thr...|             Swedish|          Movie|             7.9|Lithuania,Poland,...|    1-2 hour|      Hans Alfredson|      Hans Alfredson|Marie Göranzon, S...|       null|       6.3|                 null|            null|            3.0|                null|        null| 08 Nov 1985|          2021-03-03|                null|https://www.netfl...|https://www.imdb....|The illicit roman...|     546.0|https://occ-0-285...|https://m.media-a...|                null|        null|\n",
            "+--------------------+--------------------+--------------------+--------------------+---------------+----------------+--------------------+------------+--------------------+--------------------+--------------------+-----------+----------+---------------------+----------------+---------------+--------------------+------------+------------+--------------------+--------------------+--------------------+--------------------+--------------------+----------+--------------------+--------------------+--------------------+------------+\n",
            "only showing top 20 rows\n",
            "\n",
            "root\n",
            " |-- Title: string (nullable = true)\n",
            " |-- Genre: string (nullable = true)\n",
            " |-- Tags: string (nullable = true)\n",
            " |-- Languages: string (nullable = true)\n",
            " |-- Series or Movie: string (nullable = true)\n",
            " |-- Hidden Gem Score: double (nullable = true)\n",
            " |-- Country Availability: string (nullable = true)\n",
            " |-- Runtime: string (nullable = true)\n",
            " |-- Director: string (nullable = true)\n",
            " |-- Writer: string (nullable = true)\n",
            " |-- Actors: string (nullable = true)\n",
            " |-- View Rating: string (nullable = true)\n",
            " |-- IMDb Score: string (nullable = true)\n",
            " |-- Rotten Tomatoes Score: string (nullable = true)\n",
            " |-- Metacritic Score: string (nullable = true)\n",
            " |-- Awards Received: double (nullable = true)\n",
            " |-- Awards Nominated For: double (nullable = true)\n",
            " |-- Boxoffice: string (nullable = true)\n",
            " |-- Release Date: string (nullable = true)\n",
            " |-- Netflix Release Date: string (nullable = true)\n",
            " |-- Production House: string (nullable = true)\n",
            " |-- Netflix Link: string (nullable = true)\n",
            " |-- IMDb Link: string (nullable = true)\n",
            " |-- Summary: string (nullable = true)\n",
            " |-- IMDb Votes: string (nullable = true)\n",
            " |-- Image: string (nullable = true)\n",
            " |-- Poster: string (nullable = true)\n",
            " |-- TMDb Trailer: string (nullable = true)\n",
            " |-- Trailer Site: string (nullable = true)\n",
            "\n",
            "+-------+--------------------+------------------+------------------------------------+--------------------+---------------+------------------+--------------------+--------+-----------+------------------+--------------------+-------------+-------------------+---------------------+------------------+-----------------+--------------------+----------+------------+--------------------+----------------+--------------------+--------------------+-------------------------------------+--------------------+--------------------+--------------------+--------------------+--------------------+\n",
            "|summary|               Title|             Genre|                                Tags|           Languages|Series or Movie|  Hidden Gem Score|Country Availability| Runtime|   Director|            Writer|              Actors|  View Rating|         IMDb Score|Rotten Tomatoes Score|  Metacritic Score|  Awards Received|Awards Nominated For| Boxoffice|Release Date|Netflix Release Date|Production House|        Netflix Link|           IMDb Link|                              Summary|          IMDb Votes|               Image|              Poster|        TMDb Trailer|        Trailer Site|\n",
            "+-------+--------------------+------------------+------------------------------------+--------------------+---------------+------------------+--------------------+--------+-----------+------------------+--------------------+-------------+-------------------+---------------------+------------------+-----------------+--------------------+----------+------------+--------------------+----------------+--------------------+--------------------+-------------------------------------+--------------------+--------------------+--------------------+--------------------+--------------------+\n",
            "|  count|               15480|             13770|                               15413|               13545|          15480|             13379|               15461|   15479|      10772|             11150|               13555|         8456|              13381|                 6382|              4337|             6076|                7661|      4007|       13372|               15480|            5148|               15480|               13177|                                15471|               13390|               15472|               11852|                7200|                7195|\n",
            "|   mean|              1131.0|              null|                                null|                null|           null| 5.937551386501234|                null|    null|       null|              null|                null|         null|  6.496210762331839|    59.53016768531578|56.813653136531364|8.763726135615537|  13.984858373580472|      null|        null|                 1.0|            null|                null|                null|                                 null|   42749.39268347423|              3732.0|   833.6666666666666|   69131.33333333333|                null|\n",
            "| stddev|   990.1592318146744|              null|                                null|                null|           null|2.2502018012760523|                null|    null|       null|              null|                null|         null|  1.146809216674314|   26.995272553510823| 17.58254502833506|18.30974898403809|   29.82068307144277|      null|        null|                null|            null|                null|                null|                                 null|   125749.8472504461|   4295.127332221945|   984.0733373754891|   68923.20577522009|                null|\n",
            "|    min|\"TV series \"\"Keep...|            Action|                20th Century Peri...|           Afrikaans|          Movie|               0.6|           Argentina|1-2 hour| A. Rajdeep|\"Nans Delgado ®\"\")|        Kamir Aïnouz| Lisa Azuelos| Lisa Azuelos ®\"\")\"|                  0.0|              10.0|              1.0|                 1.0|$1,000,045| 01 Apr 1916|                 1.0| 01 Distribution|         01 Mar 2012|          2015-04-14|                 \"\"\"Comedy Doctor\"...| fall into a char...|             accents|           Creeper.\"|            144369.0|               Vimeo|\n",
            "|    max|                침묵|Western, Adventure|海外コメディ,ロマンチックコメディ...|Zulu, Xhosa, Afri...|         Series|               9.8|United States,Uni...| > 2 hrs|Özcan Deniz|    Érica de Paula|Ülkü Duru, Tuvana...|            X|                9.7| Bridget Brown, Je...|             PG-13|            300.0|               386.0|  $990,230| 31 Oct 2019|          2021-03-04|     Época Films|https://www.netfl...|https://www.imdb....|日本の北アルプスで、山岳救助ボラン...|https://www.netfl...|https://www.imdb....|https:/m.media-am...|https://www.youtu...|https://www.youtu...|\n",
            "+-------+--------------------+------------------+------------------------------------+--------------------+---------------+------------------+--------------------+--------+-----------+------------------+--------------------+-------------+-------------------+---------------------+------------------+-----------------+--------------------+----------+------------+--------------------+----------------+--------------------+--------------------+-------------------------------------+--------------------+--------------------+--------------------+--------------------+--------------------+\n",
            "\n",
            "15480\n",
            "['Title', 'Genre', 'Tags', 'Languages', 'Series or Movie', 'Hidden Gem Score', 'Country Availability', 'Runtime', 'Director', 'Writer', 'Actors', 'View Rating', 'IMDb Score', 'Rotten Tomatoes Score', 'Metacritic Score', 'Awards Received', 'Awards Nominated For', 'Boxoffice', 'Release Date', 'Netflix Release Date', 'Production House', 'Netflix Link', 'IMDb Link', 'Summary', 'IMDb Votes', 'Image', 'Poster', 'TMDb Trailer', 'Trailer Site']\n"
          ]
        }
      ],
      "source": [
        "# df = spark.read.csv(\"/content/my_file.csv\", header=True, inferSchema=True)\n",
        "df = spark.read.csv(\"netflix-rotten-tomatoes-metacritic-imdb.csv\", header=True,inferSchema=True)\n",
        "df.show()\n",
        "df.printSchema()\n",
        "df.describe().show()\n",
        "print(df.count())\n",
        "print(df.columns)"
      ]
    },
    {
      "cell_type": "markdown",
      "metadata": {
        "id": "o2BxVCO4RxZx"
      },
      "source": [
        "## What is the maximum and average of the overall hidden gem score?"
      ]
    },
    {
      "cell_type": "code",
      "execution_count": 6,
      "metadata": {
        "colab": {
          "base_uri": "https://localhost:8080/"
        },
        "id": "H52tEtpFRxZx",
        "outputId": "647eafc2-8afc-4d64-8161-f5c1c67fa796"
      },
      "outputs": [
        {
          "output_type": "stream",
          "name": "stdout",
          "text": [
            "average_hidden_gem_score: 5.937551386501234\n",
            "max_hidden_gem_score: 9.8\n"
          ]
        }
      ],
      "source": [
        "from pyspark.sql import functions as F\n",
        "HIDDEN_GEM_SCORE=(\"Hidden Gem Score\")\n",
        "average_hidden_gem_score = df.select(F.avg(HIDDEN_GEM_SCORE)).collect()[0][0]\n",
        "print(f'average_hidden_gem_score: {average_hidden_gem_score}')\n",
        "max_hidden_gem_score = df.select(F.max(HIDDEN_GEM_SCORE)).collect()[0][0]\n",
        "print(f'max_hidden_gem_score: {max_hidden_gem_score}')"
      ]
    },
    {
      "cell_type": "markdown",
      "metadata": {
        "id": "P190CmUwRxZy"
      },
      "source": [
        "## How many movies that are available in Korea?"
      ]
    },
    {
      "cell_type": "code",
      "execution_count": 7,
      "metadata": {
        "colab": {
          "base_uri": "https://localhost:8080/"
        },
        "id": "UutZjJa0RxZy",
        "outputId": "fe12fafb-d917-41d5-f0e9-63975e4096d2"
      },
      "outputs": [
        {
          "output_type": "stream",
          "name": "stdout",
          "text": [
            "735\n"
          ]
        }
      ],
      "source": [
        "number_of_movies_available_in_korea = df.filter(df[\"Languages\"].rlike('Korea')).count()\n",
        "print(number_of_movies_available_in_korea)"
      ]
    },
    {
      "cell_type": "markdown",
      "metadata": {
        "id": "jXaZ4GNiRxZy"
      },
      "source": [
        "## Which director has the highest average hidden gem score?"
      ]
    },
    {
      "cell_type": "code",
      "execution_count": 8,
      "metadata": {
        "colab": {
          "base_uri": "https://localhost:8080/"
        },
        "id": "od1L1L43RxZy",
        "outputId": "01cbaa4c-44c0-43ec-facb-ecc304c34dff"
      },
      "outputs": [
        {
          "output_type": "stream",
          "name": "stdout",
          "text": [
            "director: Dorin Marcu, score: 9.8\n"
          ]
        }
      ],
      "source": [
        "DIRECTOR='Director'\n",
        "director,score=df.groupBy(DIRECTOR).agg(\n",
        "    F.avg(HIDDEN_GEM_SCORE).alias(\"Average_Hidden_Gem_Score\")\n",
        ").orderBy(F.col(\"Average_Hidden_Gem_Score\").desc()).first()\n",
        "print(f'director: {director}, score: {score}')"
      ]
    },
    {
      "cell_type": "markdown",
      "metadata": {
        "id": "tQCRtW0QRxZy"
      },
      "source": [
        "## How many genres are there in the dataset?"
      ]
    },
    {
      "cell_type": "code",
      "execution_count": 17,
      "metadata": {
        "colab": {
          "base_uri": "https://localhost:8080/"
        },
        "id": "Rzt0nxq_RxZy",
        "outputId": "006b14f5-bfe4-4abf-a599-96063e704489"
      },
      "outputs": [
        {
          "output_type": "stream",
          "name": "stdout",
          "text": [
            "number of distinct genres: 28\n"
          ]
        }
      ],
      "source": [
        "GENRE = 'Genre'\n",
        "genres = [genre[0] for genre in (\n",
        "    df.withColumn(GENRE, F.split(df[GENRE],\",\"))\n",
        "    .withColumn(GENRE, F.explode(F.col(GENRE)))\n",
        "    .withColumn(GENRE, F.trim(F.col(GENRE)))\n",
        "    ).select(GENRE).collect()]\n",
        "\n",
        "print(f'number of distinct genres: {len(set(genres))}')\n"
      ]
    }
  ],
  "metadata": {
    "colab": {
      "provenance": []
    },
    "kernelspec": {
      "display_name": "Python 3 (ipykernel)",
      "language": "python",
      "name": "python3"
    },
    "language_info": {
      "codemirror_mode": {
        "name": "ipython",
        "version": 3
      },
      "file_extension": ".py",
      "mimetype": "text/x-python",
      "name": "python",
      "nbconvert_exporter": "python",
      "pygments_lexer": "ipython3",
      "version": "3.9.13"
    },
    "toc": {
      "base_numbering": 1,
      "nav_menu": {},
      "number_sections": true,
      "sideBar": true,
      "skip_h1_title": false,
      "title_cell": "Table of Contents",
      "title_sidebar": "Contents",
      "toc_cell": false,
      "toc_position": {},
      "toc_section_display": true,
      "toc_window_display": false
    },
    "varInspector": {
      "cols": {
        "lenName": 16,
        "lenType": 16,
        "lenVar": 40
      },
      "kernels_config": {
        "python": {
          "delete_cmd_postfix": "",
          "delete_cmd_prefix": "del ",
          "library": "var_list.py",
          "varRefreshCmd": "print(var_dic_list())"
        },
        "r": {
          "delete_cmd_postfix": ") ",
          "delete_cmd_prefix": "rm(",
          "library": "var_list.r",
          "varRefreshCmd": "cat(var_dic_list()) "
        }
      },
      "types_to_exclude": [
        "module",
        "function",
        "builtin_function_or_method",
        "instance",
        "_Feature"
      ],
      "window_display": false
    }
  },
  "nbformat": 4,
  "nbformat_minor": 0
}