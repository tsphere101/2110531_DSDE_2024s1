{
 "cells": [
  {
   "cell_type": "markdown",
   "metadata": {
    "id": "GSigx26OuY3K"
   },
   "source": [
    "# Assignment: Preparing Data for Analysis (Modified Titanic)"
   ]
  },
  {
   "cell_type": "markdown",
   "metadata": {
    "id": "tGEv03EbuY3R"
   },
   "source": [
    "![](https://github.com/kaopanboonyuen/2110446_DataScience_2021s2/raw/main/%20files/hw.png)"
   ]
  },
  {
   "cell_type": "markdown",
   "metadata": {
    "id": "4Y7acU90oRtB"
   },
   "source": [
    "# 1) Load data & review the data\n",
    "\n",
    "How many rows are there in the “titanic.csv?"
   ]
  },
  {
   "cell_type": "code",
   "execution_count": 2,
   "metadata": {
    "executionInfo": {
     "elapsed": 525,
     "status": "ok",
     "timestamp": 1673946487442,
     "user": {
      "displayName": "Peerapon Vateekul",
      "userId": "16254659850492260409"
     },
     "user_tz": -420
    },
    "id": "ENNw4KZRuY3S"
   },
   "outputs": [],
   "source": [
    "#Import the libraries\n",
    "import numpy as np\n",
    "import pandas as pd"
   ]
  },
  {
   "cell_type": "code",
   "execution_count": 110,
   "metadata": {},
   "outputs": [
    {
     "data": {
      "text/plain": [
       "445"
      ]
     },
     "execution_count": 110,
     "metadata": {},
     "output_type": "execute_result"
    }
   ],
   "source": [
    "def Q1():\n",
    "    path = 'titanic_to_student.csv'\n",
    "    df = pd.read_csv(path).drop_duplicates()\n",
    "    return df.shape[0]\n",
    "Q1()"
   ]
  },
  {
   "cell_type": "markdown",
   "metadata": {
    "id": "HyyLjiviotA3"
   },
   "source": [
    "# 2) Drop unqualified variables\n",
    "\n",
    "Drop unqualified variables\n",
    "\n",
    "Drop variables with missing > 50%\n",
    "\n",
    "Drop categorical variables with flat values > 70% (variables with the same value in the same column)\n",
    "\n",
    "How many columns do we have left?\n",
    "\n",
    "\n",
    "\n"
   ]
  },
  {
   "cell_type": "code",
   "execution_count": 111,
   "metadata": {},
   "outputs": [
    {
     "data": {
      "text/plain": [
       "10"
      ]
     },
     "execution_count": 111,
     "metadata": {},
     "output_type": "execute_result"
    }
   ],
   "source": [
    "def Q2():\n",
    "    path = 'titanic_to_student.csv'\n",
    "    def flat_value_ratio(df):\n",
    "        def flat_value_ratio_(df,column):\n",
    "            value_counts = df[column].value_counts()\n",
    "            total = sum([v for k,v in value_counts.items()],0.0)\n",
    "            max_item = max([v for k,v in value_counts.items()])\n",
    "            return max_item/total\n",
    "        return pd.Series({column:flat_value_ratio_(df,column) for column in df.columns})\n",
    "    def isna_ratio(df):\n",
    "        def ratio(df,column):\n",
    "            total = len(df[column])\n",
    "            return df[column].isna().sum() / total\n",
    "        return pd.Series({column:ratio(df,column) for column in df.columns})\n",
    "\n",
    "    df = pd.read_csv(path).drop_duplicates()\n",
    "    missing_less_than_50_percent_columns = (isna_ratio(df) * 100 > 50) == False\n",
    "    non_flat_columns = (flat_value_ratio(df)*100 > 70) == False\n",
    "    \n",
    "    return len(df.loc[:,missing_less_than_50_percent_columns & non_flat_columns].columns)\n",
    "Q2()"
   ]
  },
  {
   "cell_type": "code",
   "execution_count": null,
   "metadata": {},
   "outputs": [],
   "source": []
  },
  {
   "cell_type": "markdown",
   "metadata": {
    "id": "3jiMfyPxo7TK"
   },
   "source": [
    "# 3) Remove all rows with missing target (the variable \"Survived\")\n",
    "\n",
    "Remove all rows with missing targets (the variable \"Survived\")\n",
    "\n",
    "How many rows do we have left?\n"
   ]
  },
  {
   "cell_type": "code",
   "execution_count": 126,
   "metadata": {},
   "outputs": [
    {
     "data": {
      "text/plain": [
       "432"
      ]
     },
     "execution_count": 126,
     "metadata": {},
     "output_type": "execute_result"
    }
   ],
   "source": [
    "def Q3():\n",
    "    path = 'titanic_to_student.csv'\n",
    "    df = pd.read_csv(path).drop_duplicates()\n",
    "    return len(df[df['Survived'].isna() == False])\n",
    "Q3()"
   ]
  },
  {
   "cell_type": "markdown",
   "metadata": {
    "id": "LtgthZWlpDJw"
   },
   "source": [
    "# 4) Handle outliers \n",
    "Handle outliers\n",
    "\n",
    "For the variable “Fare”, replace outlier values with the boundary values\n",
    "\n",
    "If value < (Q1 - 1.5IQR), replace with (Q1 - 1.5IQR)\n",
    "\n",
    "If value > (Q3 + 1.5IQR), replace with (Q3 + 1.5IQR)\n",
    "\n",
    "What is the average (mean) of “Fare” after replacing the outliers (round 2 decimal points)?\n",
    "\n",
    "Hint: Use function round(_, 2)\n",
    "\n"
   ]
  },
  {
   "cell_type": "code",
   "execution_count": 154,
   "metadata": {},
   "outputs": [
    {
     "data": {
      "text/plain": [
       "np.float64(34.24)"
      ]
     },
     "execution_count": 154,
     "metadata": {},
     "output_type": "execute_result"
    }
   ],
   "source": [
    "def Q4():\n",
    "    path = 'titanic_to_student.csv'\n",
    "    df = pd.read_csv(path).drop_duplicates()\n",
    "    q1, q3 = (df['Fare'].quantile(q=0.25),df['Fare'].quantile(q=0.75))\n",
    "    iqr = q3 - q1\n",
    "    lower_bound = q1 - 1.5* iqr\n",
    "    upper_bound = q3 + 1.5* iqr\n",
    "    outlier_condition = (df['Fare'] < lower_bound) & (df['Fare'] > upper_bound) \n",
    "    non_outlier = df[outlier_condition == False]\n",
    "    mean = non_outlier['Fare'].mean()\n",
    "    return round(mean,2)\n",
    "Q4()"
   ]
  },
  {
   "cell_type": "markdown",
   "metadata": {
    "id": "wkZZEjXHpYS1"
   },
   "source": [
    "# 5) Impute missing value\n",
    "\n",
    "Impute missing value\n",
    "\n",
    "For number type column, impute missing values with mean\n",
    "\n",
    "What is the average (mean) of “Age” after imputing the missing values (round 2 decimal points)?\n",
    "\n",
    "Hint: Use function round(_, 2)\n"
   ]
  },
  {
   "cell_type": "code",
   "execution_count": 168,
   "metadata": {},
   "outputs": [
    {
     "data": {
      "text/plain": [
       "np.float64(29.14)"
      ]
     },
     "execution_count": 168,
     "metadata": {},
     "output_type": "execute_result"
    }
   ],
   "source": [
    "def Q5():\n",
    "    from sklearn.impute import SimpleImputer\n",
    "    path = 'titanic_to_student.csv'\n",
    "    df = pd.read_csv(path).drop_duplicates()\n",
    "    imp = SimpleImputer(strategy='mean')\n",
    "    mean = imp.fit_transform(df2[['Age']]).mean()\n",
    "    \n",
    "    return round(mean,2)\n",
    "Q5()"
   ]
  },
  {
   "cell_type": "markdown",
   "metadata": {
    "id": "FCR7DNJgt4Cg"
   },
   "source": [
    "# 6) Convert categorical to numeric values\n",
    "\n",
    "Convert categorical to numeric values\n",
    "\n",
    "For the variable “Embarked”, perform the dummy coding.\n",
    "\n",
    "What is the average (mean) of “Embarked_Q” after performing dummy coding (round 2 decimal points)?\n",
    "\n",
    "Hint: Use function round(_, 2)\n",
    "\n"
   ]
  },
  {
   "cell_type": "code",
   "execution_count": 178,
   "metadata": {},
   "outputs": [
    {
     "data": {
      "text/plain": [
       "np.float64(0.06)"
      ]
     },
     "execution_count": 178,
     "metadata": {},
     "output_type": "execute_result"
    }
   ],
   "source": [
    "def Q6():\n",
    "    from sklearn.preprocessing import OneHotEncoder\n",
    "    path = 'titanic_to_student.csv'\n",
    "    df = pd.read_csv(path).drop_duplicates()\n",
    "    FEATURE = 'Embarked'\n",
    "    \n",
    "    encoder = OneHotEncoder(sparse_output=False,drop='first')\n",
    "    encoded_embark = encoder.fit_transform(df[[FEATURE]])\n",
    "    encoded_df = pd.DataFrame(encoded_embark,columns=encoder.get_feature_names_out([FEATURE]))\n",
    "    mean = encoded_df['Embarked_Q'].mean()\n",
    "    return round(mean,2)\n",
    "Q6()"
   ]
  },
  {
   "cell_type": "markdown",
   "metadata": {
    "id": "XZAhqMgst93r"
   },
   "source": [
    "# 7) Partition data\n",
    "Split train/test split with stratification using 70%:30% and random seed with 123\n",
    "\n",
    "Show a proportion between survived (1) and died (0) in all data sets (total data, train, test)\n",
    "\n",
    "What is the proportion of survivors (survived = 1) in the training data (round 2 decimal points)?\n",
    "\n",
    "Hint: Use function round(_, 2), and train_test_split() from sklearn.model_selection\n",
    "\n",
    "\n"
   ]
  },
  {
   "cell_type": "code",
   "execution_count": 233,
   "metadata": {},
   "outputs": [
    {
     "data": {
      "text/plain": [
       "np.float64(0.42)"
      ]
     },
     "execution_count": 233,
     "metadata": {},
     "output_type": "execute_result"
    }
   ],
   "source": [
    "def Q7():\n",
    "    from sklearn.model_selection import train_test_split\n",
    "    path = 'titanic_to_student.csv'\n",
    "    SURVIVED = 'Survived'\n",
    "    df = pd.read_csv(path).drop_duplicates()\n",
    "    df_non_missing_survived = df[df[SURVIVED].isna() == False]\n",
    "    X = df_non_missing_survived.drop(SURVIVED, axis=1)\n",
    "    y = df_non_missing_survived[SURVIVED]\n",
    "    X_train,X_test,y_train,y_test  = train_test_split(X,y,random_state=123,test_size=0.3,stratify=y,)\n",
    "    #return  (y_train == 1.0).sum(), (y_train == 0.0).sum()\n",
    "    proportion = y_train.sum() / len(y_train)\n",
    "    return round(proportion,2)\n",
    "Q7()"
   ]
  }
 ],
 "metadata": {
  "colab": {
   "provenance": [],
   "toc_visible": true
  },
  "kernelspec": {
   "display_name": "Python 3 (ipykernel)",
   "language": "python",
   "name": "python3"
  },
  "language_info": {
   "codemirror_mode": {
    "name": "ipython",
    "version": 3
   },
   "file_extension": ".py",
   "mimetype": "text/x-python",
   "name": "python",
   "nbconvert_exporter": "python",
   "pygments_lexer": "ipython3",
   "version": "3.12.5"
  },
  "toc": {
   "base_numbering": 1,
   "nav_menu": {},
   "number_sections": true,
   "sideBar": true,
   "skip_h1_title": false,
   "title_cell": "Table of Contents",
   "title_sidebar": "Contents",
   "toc_cell": false,
   "toc_position": {},
   "toc_section_display": true,
   "toc_window_display": false
  }
 },
 "nbformat": 4,
 "nbformat_minor": 4
}
