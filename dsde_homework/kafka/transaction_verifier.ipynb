{
  "cells": [
    {
      "cell_type": "code",
      "execution_count": 11,
      "id": "NoD-ooSSu7C8",
      "metadata": {
        "colab": {
          "base_uri": "https://localhost:8080/"
        },
        "id": "NoD-ooSSu7C8",
        "outputId": "00c67411-d6c5-4ff3-af38-50a320e78697"
      },
      "outputs": [
        {
          "output_type": "stream",
          "name": "stdout",
          "text": [
            "Requirement already satisfied: kafka-python-ng in /usr/local/lib/python3.10/dist-packages (2.2.3)\n",
            "Requirement already satisfied: avro in /usr/local/lib/python3.10/dist-packages (1.12.0)\n"
          ]
        }
      ],
      "source": [
        "!pip install kafka-python-ng\n",
        "!pip install avro"
      ]
    },
    {
      "cell_type": "code",
      "execution_count": 12,
      "id": "3d144bf2",
      "metadata": {
        "id": "3d144bf2"
      },
      "outputs": [],
      "source": [
        "# import required libraries\n",
        "from kafka import KafkaConsumer, KafkaProducer\n",
        "import avro.schema\n",
        "import avro.io\n",
        "import io\n",
        "import hashlib, json\n",
        "from concurrent.futures import ThreadPoolExecutor, as_completed\n",
        "import time"
      ]
    },
    {
      "cell_type": "code",
      "execution_count": 13,
      "id": "6234ffde",
      "metadata": {
        "id": "6234ffde"
      },
      "outputs": [],
      "source": [
        "def serialize(schema, obj):\n",
        "    bytes_writer = io.BytesIO()\n",
        "    encoder = avro.io.BinaryEncoder(bytes_writer)\n",
        "    writer = avro.io.DatumWriter(schema)\n",
        "    writer.write(obj, encoder)\n",
        "    return bytes_writer.getvalue()"
      ]
    },
    {
      "cell_type": "code",
      "execution_count": 14,
      "id": "5e1434bb",
      "metadata": {
        "id": "5e1434bb"
      },
      "outputs": [],
      "source": [
        "def deserialize(schema, raw_bytes):\n",
        "    bytes_reader = io.BytesIO(raw_bytes)\n",
        "    decoder = avro.io.BinaryDecoder(bytes_reader)\n",
        "    reader = avro.io.DatumReader(schema)\n",
        "    return reader.read(decoder)"
      ]
    },
    {
      "cell_type": "code",
      "execution_count": 15,
      "id": "0e92e3e9",
      "metadata": {
        "id": "0e92e3e9"
      },
      "outputs": [],
      "source": [
        "schema_file = 'transaction.avsc'\n",
        "txschema = avro.schema.parse(open(schema_file).read())\n",
        "schema_file = 'submit.avsc'\n",
        "submitschema = avro.schema.parse(open(schema_file).read())\n",
        "schema_file = 'result.avsc'\n",
        "resultschema = avro.schema.parse(open(schema_file).read())"
      ]
    },
    {
      "cell_type": "code",
      "execution_count": 16,
      "id": "bcb5dc21",
      "metadata": {
        "id": "bcb5dc21"
      },
      "outputs": [],
      "source": [
        "# Connect to kafka broker running in your local host (docker). Change this to your kafka broker if needed\n",
        "kafka_broker = 'lab.aimet.tech:9092'"
      ]
    },
    {
      "cell_type": "code",
      "execution_count": 17,
      "id": "0e05b4b0",
      "metadata": {
        "id": "0e05b4b0"
      },
      "outputs": [],
      "source": [
        "producer = KafkaProducer(\n",
        "    bootstrap_servers=[kafka_broker],\n",
        "    value_serializer=lambda x: serialize(submitschema, x)\n",
        ")"
      ]
    },
    {
      "cell_type": "code",
      "execution_count": 18,
      "id": "4a2555a3",
      "metadata": {
        "colab": {
          "base_uri": "https://localhost:8080/"
        },
        "id": "4a2555a3",
        "outputId": "6b5f82ab-55da-470b-cc37-8fbd32192c14"
      },
      "outputs": [
        {
          "output_type": "stream",
          "name": "stderr",
          "text": [
            "WARNING:kafka.coordinator.consumer:group_id is None: disabling auto-commit.\n",
            "WARNING:kafka.coordinator.consumer:group_id is None: disabling auto-commit.\n"
          ]
        }
      ],
      "source": [
        "txconsumer = KafkaConsumer(\n",
        "    'transaction',\n",
        "     bootstrap_servers=[kafka_broker],\n",
        "     enable_auto_commit=True,\n",
        "     value_deserializer=lambda x: deserialize(txschema, x))\n",
        "\n",
        "resultconsumer = KafkaConsumer(\n",
        "    'result',\n",
        "     bootstrap_servers=[kafka_broker],\n",
        "     enable_auto_commit=True,\n",
        "     value_deserializer=lambda x: deserialize(resultschema, x))"
      ]
    },
    {
      "cell_type": "code",
      "execution_count": 19,
      "id": "fe697a88",
      "metadata": {
        "id": "fe697a88"
      },
      "outputs": [],
      "source": [
        "VID='V918295'\n",
        "VERIFICATION_TOKEN='5e77d637c1ec909c1d6c6be1f092bb9a'\n",
        "def gen_signature(txid, payer, payee, amount, token):\n",
        "    o = {'txid': txid, 'payer': payer, 'payee': payee, 'amount': amount, 'token': token}\n",
        "    return hashlib.md5(json.dumps(o, sort_keys=True).encode('utf-8')).hexdigest()"
      ]
    },
    {
      "cell_type": "code",
      "execution_count": 20,
      "id": "FjiRg1ljefCL",
      "metadata": {
        "id": "FjiRg1ljefCL"
      },
      "outputs": [],
      "source": [
        "# txproducer = KafkaProducer(\n",
        "#     bootstrap_servers=[kafka_broker],\n",
        "#     value_serializer=lambda x: serialize(txschema, x)\n",
        "# )\n",
        "# txproducer.send('transaction', {'txid':'1', 'payer':'a', 'payee':'b', 'amount':100})\n",
        "# txproducer.flush()"
      ]
    },
    {
      "cell_type": "code",
      "execution_count": null,
      "id": "_6ECy3er6UfE",
      "metadata": {
        "colab": {
          "base_uri": "https://localhost:8080/"
        },
        "id": "_6ECy3er6UfE",
        "outputId": "598e141d-e3aa-4bf8-b5cf-5c1420027f07"
      },
      "outputs": [
        {
          "output_type": "stream",
          "name": "stdout",
          "text": [
            "Waiting for messages from topic transaction\n",
            "Waiting for messages from topic result\n",
            "{'timestamp': 1729986174, 'vid': 'V918295', 'txid': 'TX03326', 'checksum': '78c7f854afe43deb54fbaa1d803df806', 'code': 200, 'message': 'Confirm'}\n",
            "{'timestamp': 1729986179, 'vid': 'V918295', 'txid': 'TX07174', 'checksum': 'b8b136993fd0e5780cf9c2f9a2f95490', 'code': 200, 'message': 'Confirm'}\n",
            "{'timestamp': 1729986189, 'vid': 'V918295', 'txid': 'TX06580', 'checksum': 'e5b0fa585474aa06c718a86864631344', 'code': 200, 'message': 'Confirm'}\n",
            "{'timestamp': 1729986199, 'vid': 'V918295', 'txid': 'TX06334', 'checksum': 'b6ff8d553cf0f41f91c28a28a26f131a', 'code': 200, 'message': 'Confirm'}\n",
            "{'timestamp': 1729986204, 'vid': 'V918295', 'txid': 'TX00958', 'checksum': 'f0e22dce20c28c957732cf1be7f19e10', 'code': 200, 'message': 'Confirm'}\n",
            "{'timestamp': 1729986212, 'vid': 'V918295', 'txid': 'TX07739', 'checksum': 'd1dc3e477a8b8243aefc6fb447f2fc31', 'code': 200, 'message': 'Confirm'}\n",
            "{'timestamp': 1729986222, 'vid': 'V918295', 'txid': 'TX02613', 'checksum': '755e9d5ecc78b8e2025791dba3feb4e0', 'code': 200, 'message': 'Confirm'}\n",
            "{'timestamp': 1729986231, 'vid': 'V918295', 'txid': 'TX02560', 'checksum': 'b760495f3e053145760d9a5e09e29f13', 'code': 200, 'message': 'Confirm'}\n",
            "{'timestamp': 1729986237, 'vid': 'V918295', 'txid': 'TX02345', 'checksum': 'f3281b5f2a012e275d403d70007f583d', 'code': 200, 'message': 'Confirm'}\n",
            "{'timestamp': 1729986247, 'vid': 'V918295', 'txid': 'TX02881', 'checksum': '9bf174df90a7fbba91a5ecdf9c1423af', 'code': 200, 'message': 'Confirm'}\n",
            "{'timestamp': 1729986255, 'vid': 'V918295', 'txid': 'TX08317', 'checksum': '5ec97171bf8acff6446f2136f3fd6c01', 'code': 200, 'message': 'Confirm'}\n",
            "{'timestamp': 1729986261, 'vid': 'V918295', 'txid': 'TX03070', 'checksum': '5de75163c0e2a0a99b5339f2ae3b7846', 'code': 200, 'message': 'Confirm'}\n",
            "{'timestamp': 1729986269, 'vid': 'V918295', 'txid': 'TX07030', 'checksum': '9978dc724577741ebb8299b08b09f624', 'code': 200, 'message': 'Confirm'}\n",
            "{'timestamp': 1729986275, 'vid': 'V918295', 'txid': 'TX02726', 'checksum': '0e6c04cfc2f50eedc585f80b14d495e7', 'code': 200, 'message': 'Confirm'}\n",
            "{'timestamp': 1729986281, 'vid': 'V918295', 'txid': 'TX00353', 'checksum': 'ac6f93c5aeb0d3631340d96ed4227b90', 'code': 200, 'message': 'Confirm'}\n",
            "{'timestamp': 1729986290, 'vid': 'V918295', 'txid': 'TX06731', 'checksum': 'b45da863dd01a5775ea5af4de6c7c66e', 'code': 200, 'message': 'Confirm'}\n",
            "{'timestamp': 1729986296, 'vid': 'V918295', 'txid': 'TX00812', 'checksum': 'a572ba515e0ade9b200b5eaa5cfa959d', 'code': 200, 'message': 'Confirm'}\n",
            "{'timestamp': 1729986304, 'vid': 'V918295', 'txid': 'TX07128', 'checksum': '375aeb52724634856f6cebee51ed7797', 'code': 200, 'message': 'Confirm'}\n",
            "{'timestamp': 1729986309, 'vid': 'V918295', 'txid': 'TX05840', 'checksum': 'b7be70d7ea7d2da9806faf081361a0a7', 'code': 200, 'message': 'Confirm'}\n",
            "{'timestamp': 1729986318, 'vid': 'V918295', 'txid': 'TX04317', 'checksum': '36b068f50df115303fc72094e0aa838b', 'code': 200, 'message': 'Confirm'}\n",
            "{'timestamp': 1729986325, 'vid': 'V918295', 'txid': 'TX00504', 'checksum': '8f974cca31dd90c3dc967d83aad87943', 'code': 200, 'message': 'Confirm'}\n",
            "{'timestamp': 1729986335, 'vid': 'V918295', 'txid': 'TX01754', 'checksum': '40a5125c7bc921b76b591fb1dbc4958d', 'code': 200, 'message': 'Confirm'}\n",
            "{'timestamp': 1729986343, 'vid': 'V918295', 'txid': 'TX08403', 'checksum': '17e77ea1b64c09de3ed8f38dd23b379a', 'code': 200, 'message': 'Confirm'}\n",
            "{'timestamp': 1729986353, 'vid': 'V918295', 'txid': 'TX03632', 'checksum': 'e5fc5ef8ccdcda77e662a761f5957566', 'code': 200, 'message': 'Confirm'}\n",
            "{'timestamp': 1729986359, 'vid': 'V918295', 'txid': 'TX05969', 'checksum': '643b9d22ddc4fe7debbf1c5cd5369256', 'code': 200, 'message': 'Confirm'}\n",
            "{'timestamp': 1729986364, 'vid': 'V918295', 'txid': 'TX09397', 'checksum': 'e4c1f8f34593554c035709d56d225907', 'code': 200, 'message': 'Confirm'}\n"
          ]
        }
      ],
      "source": [
        "def consume_transaction_and_submit(txconsumer, producer):\n",
        "    print(f'Waiting for messages from topic transaction')\n",
        "    try:\n",
        "        for msg in txconsumer:\n",
        "            transaction = msg.value\n",
        "            signature = gen_signature(transaction['txid'], transaction['payer'], transaction['payee'], transaction['amount'], VERIFICATION_TOKEN)\n",
        "            producer.send(\n",
        "                'submit',\n",
        "                {'vid':VID, 'txid': transaction['txid'], 'signature': signature}\n",
        "            )\n",
        "            producer.flush()\n",
        "    except Exception as e:\n",
        "        print(f'Error while listening to transaction: {e}')\n",
        "    finally:\n",
        "        producer.close()\n",
        "\n",
        "def consume_result(resultconsumer):\n",
        "    print(f'Waiting for messages from topic result')\n",
        "    try:\n",
        "        for msg in resultconsumer:\n",
        "            result = msg.value\n",
        "            if msg.value['vid'] == VID:\n",
        "                print(f'{result}')\n",
        "    except Exception as e:\n",
        "        print(f'Error while listening to result: {e}')\n",
        "    finally:\n",
        "        resultconsumer.close()\n",
        "\n",
        "with ThreadPoolExecutor() as executor:\n",
        "    futures = []\n",
        "\n",
        "    futures.append(executor.submit(consume_transaction_and_submit, txconsumer, producer))\n",
        "    futures.append(executor.submit(consume_result, resultconsumer))\n",
        "\n",
        "print('Exited')"
      ]
    }
  ],
  "metadata": {
    "colab": {
      "provenance": []
    },
    "kernelspec": {
      "display_name": "Python 3 (ipykernel)",
      "language": "python",
      "name": "python3"
    },
    "language_info": {
      "codemirror_mode": {
        "name": "ipython",
        "version": 3
      },
      "file_extension": ".py",
      "mimetype": "text/x-python",
      "name": "python",
      "nbconvert_exporter": "python",
      "pygments_lexer": "ipython3",
      "version": "3.9.13"
    }
  },
  "nbformat": 4,
  "nbformat_minor": 5
}