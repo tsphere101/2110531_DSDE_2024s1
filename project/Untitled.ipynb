{
 "cells": [
  {
   "cell_type": "code",
   "execution_count": 6,
   "id": "524283e3-1ed5-459b-8919-007454499f90",
   "metadata": {},
   "outputs": [
    {
     "data": {
      "text/html": [
       "<div>\n",
       "<style scoped>\n",
       "    .dataframe tbody tr th:only-of-type {\n",
       "        vertical-align: middle;\n",
       "    }\n",
       "\n",
       "    .dataframe tbody tr th {\n",
       "        vertical-align: top;\n",
       "    }\n",
       "\n",
       "    .dataframe thead th {\n",
       "        text-align: right;\n",
       "    }\n",
       "</style>\n",
       "<table border=\"1\" class=\"dataframe\">\n",
       "  <thead>\n",
       "    <tr style=\"text-align: right;\">\n",
       "      <th></th>\n",
       "      <th>abstracts-retrieval-response</th>\n",
       "    </tr>\n",
       "  </thead>\n",
       "  <tbody>\n",
       "    <tr>\n",
       "      <th>item</th>\n",
       "      <td>{'ait:process-info': {'ait:status': {'@state':...</td>\n",
       "    </tr>\n",
       "    <tr>\n",
       "      <th>affiliation</th>\n",
       "      <td>{'affiliation-city': 'Bangkok', '@id': '600281...</td>\n",
       "    </tr>\n",
       "    <tr>\n",
       "      <th>coredata</th>\n",
       "      <td>{'srctype': 'j', 'eid': '2-s2.0-85132634561', ...</td>\n",
       "    </tr>\n",
       "    <tr>\n",
       "      <th>idxterms</th>\n",
       "      <td>None</td>\n",
       "    </tr>\n",
       "    <tr>\n",
       "      <th>language</th>\n",
       "      <td>{'@xml:lang': 'eng'}</td>\n",
       "    </tr>\n",
       "    <tr>\n",
       "      <th>authkeywords</th>\n",
       "      <td>{'author-keyword': [{'@_fa': 'true', '$': 'att...</td>\n",
       "    </tr>\n",
       "    <tr>\n",
       "      <th>subject-areas</th>\n",
       "      <td>{'subject-area': [{'@_fa': 'true', '$': 'Busin...</td>\n",
       "    </tr>\n",
       "    <tr>\n",
       "      <th>authors</th>\n",
       "      <td>{'author': [{'ce:given-name': 'Papaporn', 'pre...</td>\n",
       "    </tr>\n",
       "  </tbody>\n",
       "</table>\n",
       "</div>"
      ],
      "text/plain": [
       "                                    abstracts-retrieval-response\n",
       "item           {'ait:process-info': {'ait:status': {'@state':...\n",
       "affiliation    {'affiliation-city': 'Bangkok', '@id': '600281...\n",
       "coredata       {'srctype': 'j', 'eid': '2-s2.0-85132634561', ...\n",
       "idxterms                                                    None\n",
       "language                                    {'@xml:lang': 'eng'}\n",
       "authkeywords   {'author-keyword': [{'@_fa': 'true', '$': 'att...\n",
       "subject-areas  {'subject-area': [{'@_fa': 'true', '$': 'Busin...\n",
       "authors        {'author': [{'ce:given-name': 'Papaporn', 'pre..."
      ]
     },
     "execution_count": 6,
     "metadata": {},
     "output_type": "execute_result"
    }
   ],
   "source": [
    "import pandas as pd\n",
    "import os\n",
    "\n",
    "\n",
    "ls = os.listdir('./Project-Data/2023/')\n",
    "x = ls[0]\n",
    "df = pd.read_json(f\"./Project-Data/2023/{x}\")\n",
    "df"
   ]
  }
 ],
 "metadata": {
  "kernelspec": {
   "display_name": "Python 3 (ipykernel)",
   "language": "python",
   "name": "python3"
  },
  "language_info": {
   "codemirror_mode": {
    "name": "ipython",
    "version": 3
   },
   "file_extension": ".py",
   "mimetype": "text/x-python",
   "name": "python",
   "nbconvert_exporter": "python",
   "pygments_lexer": "ipython3",
   "version": "3.12.7"
  }
 },
 "nbformat": 4,
 "nbformat_minor": 5
}
